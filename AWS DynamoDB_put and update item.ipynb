{
 "cells": [
  {
   "cell_type": "code",
   "execution_count": 24,
   "metadata": {},
   "outputs": [],
   "source": [
    "import pandas as pd\n",
    "import numpy as np\n",
    "import boto3"
   ]
  },
  {
   "cell_type": "code",
   "execution_count": 40,
   "metadata": {},
   "outputs": [],
   "source": [
    "dynamodb = boto3.resource('dynamodb') ###connect to DynamoDB"
   ]
  },
  {
   "cell_type": "markdown",
   "metadata": {},
   "source": [
    "## Test table"
   ]
  },
  {
   "cell_type": "code",
   "execution_count": 109,
   "metadata": {},
   "outputs": [
    {
     "data": {
      "text/plain": [
       "{'ResponseMetadata': {'HTTPHeaders': {'connection': 'keep-alive',\n",
       "   'content-length': '2',\n",
       "   'content-type': 'application/x-amz-json-1.0',\n",
       "   'date': 'Wed, 09 Oct 2019 18:44:53 GMT',\n",
       "   'server': 'Server',\n",
       "   'x-amz-crc32': '2745614147',\n",
       "   'x-amzn-requestid': 'FR0OEDI4BSA2HGC05GEEF3TKFJVV4KQNSO5AEMVJF66Q9ASUAAJG'},\n",
       "  'HTTPStatusCode': 200,\n",
       "  'RequestId': 'FR0OEDI4BSA2HGC05GEEF3TKFJVV4KQNSO5AEMVJF66Q9ASUAAJG',\n",
       "  'RetryAttempts': 0}}"
      ]
     },
     "execution_count": 109,
     "metadata": {},
     "output_type": "execute_result"
    }
   ],
   "source": [
    "dynamoTable = dynamodb.Table('test') ###  Connect to test table, the test table is fot database testing\n",
    "dynamoTable.put_item(                ### add or update item\n",
    "Item={\n",
    "        'a' : \"test1\",\n",
    "        'b' : 11\n",
    "    }\n",
    ")"
   ]
  },
  {
   "cell_type": "markdown",
   "metadata": {},
   "source": [
    "## Age_distribution table"
   ]
  },
  {
   "cell_type": "code",
   "execution_count": 110,
   "metadata": {},
   "outputs": [],
   "source": [
    "df = pd.read_csv('oasis_longitudinal.csv')    ###  read dataset\n",
    "age=df['Age'].value_counts().sort_index()     ###  aggregate and sort by age "
   ]
  },
  {
   "cell_type": "code",
   "execution_count": 112,
   "metadata": {},
   "outputs": [
    {
     "data": {
      "text/plain": [
       "39"
      ]
     },
     "execution_count": 112,
     "metadata": {},
     "output_type": "execute_result"
    }
   ],
   "source": [
    "len(age)"
   ]
  },
  {
   "cell_type": "code",
   "execution_count": 111,
   "metadata": {},
   "outputs": [],
   "source": [
    "for i in range(len(age)):                         ### read each line\n",
    "    dynamoTable = dynamodb.Table('age_distribution')   ###  Connect to age_distribution table \n",
    "    dynamoTable.put_item(                           ### add or update item\n",
    "    Item={\n",
    "        'country' : str(age.index.values[i]),\n",
    "        'visits' : age.tolist()[i]\n",
    "    }\n",
    ")"
   ]
  },
  {
   "cell_type": "markdown",
   "metadata": {},
   "source": [
    "## Cup table"
   ]
  },
  {
   "cell_type": "code",
   "execution_count": 143,
   "metadata": {},
   "outputs": [],
   "source": [
    "cup = pd.read_csv('cup_dataset.csv')   ###  read dataset"
   ]
  },
  {
   "cell_type": "code",
   "execution_count": 144,
   "metadata": {},
   "outputs": [
    {
     "data": {
      "text/plain": [
       "6"
      ]
     },
     "execution_count": 144,
     "metadata": {},
     "output_type": "execute_result"
    }
   ],
   "source": [
    "len(cup)           ### ckech length"
   ]
  },
  {
   "cell_type": "code",
   "execution_count": 146,
   "metadata": {},
   "outputs": [],
   "source": [
    "for i in range(len(cup)):\n",
    "    dynamoTable = dynamodb.Table('Dementia_Record')      ###  Connect to Dementia_Record table\n",
    "    dynamoTable.put_item(\n",
    "    Item={\n",
    "        'name' : cup['Attribute'][i],\n",
    "        'value' : int(cup['Value'][i])\n",
    "    }\n",
    ")"
   ]
  },
  {
   "cell_type": "markdown",
   "metadata": {},
   "source": [
    "## Sunburst table"
   ]
  },
  {
   "cell_type": "code",
   "execution_count": 122,
   "metadata": {},
   "outputs": [],
   "source": [
    "sun = pd.read_csv('sunburst.csv')      ###  read dataset"
   ]
  },
  {
   "cell_type": "code",
   "execution_count": 123,
   "metadata": {},
   "outputs": [
    {
     "data": {
      "text/plain": [
       "2"
      ]
     },
     "execution_count": 123,
     "metadata": {},
     "output_type": "execute_result"
    }
   ],
   "source": [
    "len(sun)"
   ]
  },
  {
   "cell_type": "code",
   "execution_count": 142,
   "metadata": {},
   "outputs": [],
   "source": [
    "for i in range(len(sun)):\n",
    "    dynamoTable = dynamodb.Table('sun')        ###  Connect to sun table \n",
    "    dynamoTable.put_item(\n",
    "    Item={\n",
    "        'akey' : sun['Gender'][i],\n",
    "        'children' : [\n",
    "    {\n",
    "      \"akey\": \"Community\",\n",
    "      \"value\": int(sun['Community'][i])\n",
    "    },\n",
    "    {\n",
    "      \"akey\": \"Cared Accomodation\",\n",
    "      \"value\": int(sun['Cared Accomodation'][i])\n",
    "    }\n",
    "  ]\n",
    "    }\n",
    ")"
   ]
  }
 ],
 "metadata": {
  "kernelspec": {
   "display_name": "Python 3",
   "language": "python",
   "name": "python3"
  },
  "language_info": {
   "codemirror_mode": {
    "name": "ipython",
    "version": 3
   },
   "file_extension": ".py",
   "mimetype": "text/x-python",
   "name": "python",
   "nbconvert_exporter": "python",
   "pygments_lexer": "ipython3",
   "version": "3.6.4"
  }
 },
 "nbformat": 4,
 "nbformat_minor": 2
}
