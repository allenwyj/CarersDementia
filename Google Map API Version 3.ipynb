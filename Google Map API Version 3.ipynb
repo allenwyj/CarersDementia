{
 "cells": [
  {
   "cell_type": "code",
   "execution_count": 1,
   "metadata": {},
   "outputs": [
    {
     "name": "stdout",
     "output_type": "stream",
     "text": [
      "C:\\Users\\Admin\\documents\n"
     ]
    }
   ],
   "source": [
    "cd documents"
   ]
  },
  {
   "cell_type": "code",
   "execution_count": 20,
   "metadata": {},
   "outputs": [],
   "source": [
    "## !pip install googlemaps ##install googlemaps\n",
    "import googlemaps\n",
    "import time\n",
    "import csv\n",
    "\n",
    "api_key = 'YOUR API KEY'   ### import google map API key\n",
    "gmaps = googlemaps.Client(key=api_key)\n",
    "\n",
    "search_category = 'dementia community' ## search key word which decides what category are searched\n",
    "category_id = '71' ## the category id based on the search key word\n",
    "\n",
    "params = {\n",
    "    'query' : [search_category], ### search content\n",
    "    'location': (-37.8102, 144.9628),  ### default location melbourne central\n",
    "    'radius': 50000                       ### search radius\n",
    "}\n",
    "places = gmaps.places(**params)\n",
    "\n",
    "csv_list = []\n",
    "image_max_width = '800'\n",
    "image_max_height = '800'\n",
    "\n",
    "places_list = places['results']\n",
    "for i in range(len(places_list)):\n",
    "    place_detail = {}\n",
    "    place_detail['name'] = places_list[i]['name']\n",
    "    place_detail['address'] = places_list[i]['formatted_address']\n",
    "    place_detail['lat'] = places_list[i]['geometry']['location']['lat']\n",
    "    place_detail['lng'] = places_list[i]['geometry']['location']['lng']\n",
    "    place_detail['rating'] = places_list[i]['rating']\n",
    "    place_detail['types'] = places_list[i]['types']\n",
    "    if 'photos' in places_list[i]:\n",
    "        image_ref = places_list[i]['photos'][0]['photo_reference']\n",
    "        place_detail['image'] = 'https://maps.googleapis.com/maps/api/place/photo?maxwidth='\\\n",
    "        + image_max_width + '&maxheight=' + image_max_height + '&photoreference=' + image_ref + '&key=' + api_key\n",
    "    else:\n",
    "        place_detail['image'] = ''\n",
    "    csv_list.append(place_detail)\n",
    "    \n",
    "### if ther more than 20 record, search next page\n",
    "try:\n",
    "    params['page_token'] = places['next_page_token']\n",
    "    time.sleep(2)\n",
    "    places_2 = gmaps.places(**params)\n",
    "except KeyError:\n",
    "    pass\n",
    "try:\n",
    "    for i in place_2['results']:\n",
    "        csv_list.append(i)\n",
    "except NameError:\n",
    "    pass\n",
    "\n",
    "## column names based on the GeoDirectory sample CSV file\n",
    "column_name = ['ID','post_title', 'post_author', 'post_category', 'post_tags', 'post_type',\\\n",
    "               'post_status', 'street', 'city', 'region','country', 'latitude', 'longitude',\\\n",
    "               'post_images','video','zip','business_hours','phone','email','website','twitter',\\\n",
    "               'facebook','featured','post_content']\n",
    "\n",
    "with open('places.csv', 'w') as csvFile:\n",
    "    writer = csv.writer(csvFile, delimiter=',')\n",
    "    writer.writerow(column_name)\n",
    "    for i in csv_list:\n",
    "        one_place = ['']\n",
    "        one_place.append(i['name'])\n",
    "        one_place.append('1')\n",
    "        one_place.append(category_id)\n",
    "        one_place.append(','.join(i['types']))\n",
    "        one_place.append('gd_place')\n",
    "        one_place.append('publish')\n",
    "        one_place.append(i['address'])\n",
    "        one_place.append('Melbourne')\n",
    "        one_place.append('Victoria')\n",
    "        one_place.append('Australia')\n",
    "        one_place.append(i['lat'])\n",
    "        one_place.append(i['lng'])\n",
    "        one_place.append(i['image'])\n",
    "        writer.writerow(one_place)\n",
    "csvFile.close()"
   ]
  },
  {
   "cell_type": "code",
   "execution_count": null,
   "metadata": {},
   "outputs": [],
   "source": []
  }
 ],
 "metadata": {
  "kernelspec": {
   "display_name": "Python 3",
   "language": "python",
   "name": "python3"
  },
  "language_info": {
   "codemirror_mode": {
    "name": "ipython",
    "version": 3
   },
   "file_extension": ".py",
   "mimetype": "text/x-python",
   "name": "python",
   "nbconvert_exporter": "python",
   "pygments_lexer": "ipython3",
   "version": "3.6.4"
  }
 },
 "nbformat": 4,
 "nbformat_minor": 2
}
